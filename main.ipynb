{
 "cells": [
  {
   "cell_type": "code",
   "execution_count": null,
   "metadata": {},
   "outputs": [],
   "source": [
    "\"\"\"\n",
    "Load the models\n",
    "\"\"\"\n",
    "from llm.api.openai_models import GPTChat\n",
    "from llm.api.gemini_models import GeminiChat\n",
    "from llm.api.azure_openai_models import AzureChat\n",
    "from llm.api.deepinfra_models import DeepInfraChat\n",
    "# mllm = DeepInfraChat(\"meta-llama/Llama-3.2-11B-Vision-Instruct\")\n",
    "# llm = AzureChat(\"gpt-4o-mini\")\n",
    "\n",
    "llm = GeminiChat(\"gemini-1.5-pro\")\n",
    "mllm = GeminiChat(\"gemini-1.5-pro\")\n",
    "\n",
    "\"\"\"\n",
    "Load the dataset through customized json file\n",
    "\"\"\"\n",
    "from dataset import *\n",
    "dataset = ImageDataset(llm)   # the model here used for \"ENTITY EXTRACTION\" !!!\n"
   ]
  },
  {
   "cell_type": "code",
   "execution_count": null,
   "metadata": {},
   "outputs": [],
   "source": [
    "prefix = \"gemini_\"\n",
    "file = \"gemini_test\""
   ]
  },
  {
   "cell_type": "code",
   "execution_count": null,
   "metadata": {},
   "outputs": [],
   "source": [
    "\"\"\" Entity Extraction \"\"\"\n",
    "dataset.load(\"load/mmvet.json\")\n",
    "dataset.entity_extraction(mllm, prefix + \"1_entity_extraction\")    # model used for \"CAPTION GENERATION\" !!!"
   ]
  },
  {
   "cell_type": "code",
   "execution_count": null,
   "metadata": {},
   "outputs": [],
   "source": [
    "\"\"\" Question Decomposition \"\"\"\n",
    "dataset.load(f\"save/{file}/{prefix}1_entity_extraction.json\")\n",
    "dataset.new_subquestion_generating(llm, prefix + \"3_test_subquestion\")"
   ]
  },
  {
   "cell_type": "code",
   "execution_count": null,
   "metadata": {},
   "outputs": [],
   "source": [
    "\"\"\"\n",
    "SubQuestion Answering (original image + cropped image)\n",
    "\"\"\"\n",
    "dataset.load(f\"save/{file}/{prefix}3_test_subquestion.json\")\n",
    "dataset.new_subquestion_answering(mllm, prefix + \"4_test_answer\")"
   ]
  },
  {
   "cell_type": "code",
   "execution_count": null,
   "metadata": {},
   "outputs": [],
   "source": [
    "\"\"\"\n",
    "Summarization (Summarize the subquestion-answer pairs)\n",
    "    - if no subquestion, just returns empty string info \"\"\n",
    "\"\"\"\n",
    "dataset.load(f\"save/{file}/{prefix}4_test_answer.json\")\n",
    "dataset.new_summarization(llm, prefix + \"5_test_summarize\")\n"
   ]
  },
  {
   "cell_type": "code",
   "execution_count": null,
   "metadata": {},
   "outputs": [],
   "source": [
    "\"\"\"\n",
    "Final Question Answering\n",
    "\"\"\"\n",
    "dataset.load(f\"save/{file}/{prefix}5_test_summarize.json\")\n",
    "dataset.question_answering(mllm, prefix + \"6_test_answer\")"
   ]
  },
  {
   "cell_type": "code",
   "execution_count": null,
   "metadata": {},
   "outputs": [],
   "source": [
    "# from debator.base import Debate\n",
    "# dataset.load(f\"save/{file}/{prefix}6_test_answer.json\")\n",
    "# debator = Debate(llm=llm, mllm=mllm)\n",
    "# dataset.debate(debator)\n",
    "# dataset.save_json(f\"{file}/{prefix}7_debater\")"
   ]
  },
  {
   "cell_type": "code",
   "execution_count": null,
   "metadata": {},
   "outputs": [],
   "source": [
    "import json\n",
    "\n",
    "with open(f\"save/{prefix}6_test_answer.json\", \"r\") as f:\n",
    "    data = json.load(f)\n",
    "\n",
    "with open(\"results.json\", \"w\") as output_f:\n",
    "    results = {sol[\"id\"]: sol[\"summarization\"] for sol in data}\n",
    "    json.dump(results, output_f, indent=4)"
   ]
  }
 ],
 "metadata": {
  "kernelspec": {
   "display_name": "env_python",
   "language": "python",
   "name": "python3"
  },
  "language_info": {
   "codemirror_mode": {
    "name": "ipython",
    "version": 3
   },
   "file_extension": ".py",
   "mimetype": "text/x-python",
   "name": "python",
   "nbconvert_exporter": "python",
   "pygments_lexer": "ipython3",
   "version": "3.10.6"
  }
 },
 "nbformat": 4,
 "nbformat_minor": 2
}
