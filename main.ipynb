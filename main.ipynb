{
 "cells": [
  {
   "cell_type": "code",
   "execution_count": null,
   "metadata": {},
   "outputs": [],
   "source": [
    "\"\"\"\n",
    "Load the models\n",
    "\"\"\"\n",
    "from llm.api.openai_models import GPTChat\n",
    "from llm.api.gemini_models import GeminiChat\n",
    "from llm.api.azure_openai_models import AzureChat\n",
    "from llm.api.deepinfra_models import DeepInfraChat\n",
    "from llm.local.llava_model import LlavaChat\n",
    "\n",
    "llm = GPTChat(\"gpt-4o-mini\")\n",
    "# llm = GeminiChat(\"gemini-1.5-pro\")\n",
    "\n",
    "mllm = GPTChat(\"gpt-4o-mini\")\n",
    "# mllm = GeminiChat(\"gemini-1.5-pro\")\n",
    "# mllm = DeepInfraChat(\"meta-llama/Llama-3.2-11B-Vision-Instruct\")\n",
    "\n",
    "model_names = \"4o-mini+4o-mini\"\n",
    "\n",
    "\"\"\"\n",
    "Load the dataset through customized json file\n",
    "\"\"\"\n",
    "import json\n",
    "from dataset import *\n",
    "dataset = ImageDataset(llm)   # the model here used for \"ENTITY EXTRACTION\" !!!"
   ]
  },
  {
   "cell_type": "code",
   "execution_count": null,
   "metadata": {},
   "outputs": [],
   "source": [
    "\"\"\" Entity Extraction \"\"\"\n",
    "dataset.load(\"load/mmhal_data.json\")\n",
    "dataset.new_generate_caption(mllm, \"mmhal_\" + model_names + \"_1_entity_extraction\")"
   ]
  },
  {
   "cell_type": "code",
   "execution_count": null,
   "metadata": {},
   "outputs": [],
   "source": [
    "\"\"\" Question Decomposition \"\"\"\n",
    "dataset.load(\"save/mmhal_\" + model_names + \"_1_entity_extraction.json\")\n",
    "dataset.generate_subquestion_overall(llm, \"mmhal_\" + model_names + \"_2_test_subquestion\")"
   ]
  },
  {
   "cell_type": "code",
   "execution_count": null,
   "metadata": {},
   "outputs": [],
   "source": [
    "\"\"\"\n",
    "SubQuestion Answering (original image + cropped image)\n",
    "\"\"\"\n",
    "dataset.subquestion_answering_overall(mllm, \"mmhal_\" + model_names + \"_3_test_answer\")"
   ]
  },
  {
   "cell_type": "code",
   "execution_count": null,
   "metadata": {},
   "outputs": [],
   "source": [
    "\"\"\"\n",
    "Summarization (Summarize the subquestion-answer pairs)\n",
    "    - if no subquestion, just returns empty string info \"\"\n",
    "\"\"\"\n",
    "dataset.subquestion_summarization_overall(llm, \"mmhal_\" + model_names + \"_4_test_summarize\")"
   ]
  },
  {
   "cell_type": "code",
   "execution_count": null,
   "metadata": {},
   "outputs": [],
   "source": [
    "\"\"\"\n",
    "Final Question Answering\n",
    "\"\"\"\n",
    "dataset.question_answering(mllm, \"mmhal_\" + model_names + \"_5_test_answer\")\n",
    "\n",
    "with open(f\"save/mmhal_\" + model_names + \"_5_test_answer.json\", \"r\") as f:\n",
    "    data = json.load(f)\n",
    "\n",
    "with open(\"save/mmhal_\" + model_names + \"_5_test_answer_results.json\", \"w\") as output_f:\n",
    "    results = {sol[\"id\"]: sol[\"mllm_answer\"] for sol in data}\n",
    "    json.dump(results, output_f, indent=4)"
   ]
  },
  {
   "cell_type": "code",
   "execution_count": null,
   "metadata": {},
   "outputs": [],
   "source": [
    "from debator.base import Debate\n",
    "debator = Debate(llm=llm, mllm=mllm)\n",
    "dataset.debate(debator, \"mmhal_\" + model_names + \"_6_debating\")\n",
    "\n",
    "with open(f\"save/mmhal_\" + model_names + \"_6_debating.json\", \"r\") as f:\n",
    "    data = json.load(f)\n",
    "\n",
    "with open(\"save/mmhal_\" + model_names + \"_6_debating_results.json\", \"w\") as output_f:\n",
    "    results = {sol[\"id\"]: sol[\"answer_after_debating\"] for sol in data}\n",
    "    json.dump(results, output_f, indent=4)"
   ]
  }
 ],
 "metadata": {
  "kernelspec": {
   "display_name": "env_python",
   "language": "python",
   "name": "python3"
  },
  "language_info": {
   "codemirror_mode": {
    "name": "ipython",
    "version": 3
   },
   "file_extension": ".py",
   "mimetype": "text/x-python",
   "name": "python",
   "nbconvert_exporter": "python",
   "pygments_lexer": "ipython3",
   "version": "3.10.6"
  }
 },
 "nbformat": 4,
 "nbformat_minor": 2
}
